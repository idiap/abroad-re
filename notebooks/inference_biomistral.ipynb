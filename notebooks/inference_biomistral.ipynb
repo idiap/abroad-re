{
  "cells": [
    {
      "cell_type": "code",
      "execution_count": 1,
      "metadata": {
        "id": "imSr42bcXBPn"
      },
      "outputs": [],
      "source": [
        "# SPDX-FileCopyrightText: 2024 Idiap Research Institute <contact@idiap.ch>\n",
        "#\n",
        "# SPDX-FileContributor: Delmas Maxime maxime.delmas@idiap.ch\n",
        "#\n",
        "# SPDX-License-Identifier: GPL-3.0-or-later"
      ]
    },
    {
      "cell_type": "markdown",
      "metadata": {
        "id": "LNI2kwbWVyGQ"
      },
      "source": [
        "# End-to-end Relation Extraction on the natural-product litterature with a fine-tuned BioMistral Model"
      ]
    },
    {
      "cell_type": "markdown",
      "metadata": {
        "id": "FYdzAgzMgySQ"
      },
      "source": [
        "The base model is [BioMistral-7B](https://huggingface.co/BioMistral/BioMistral-7B)"
      ]
    },
    {
      "cell_type": "markdown",
      "metadata": {
        "id": "6yPr04vYVoVE"
      },
      "source": [
        "## Install the dependencies"
      ]
    },
    {
      "cell_type": "code",
      "execution_count": null,
      "metadata": {
        "colab": {
          "base_uri": "https://localhost:8080/"
        },
        "id": "gcS0IPcSVsh9",
        "outputId": "4a34aaa6-b7cf-4d49-fadb-6ca086b940d8"
      },
      "outputs": [],
      "source": [
        "!pip install bitsandbytes\n",
        "!pip install git+https://github.com/huggingface/transformers.git\n",
        "!pip install accelerate\n",
        "!pip install sacremoses"
      ]
    },
    {
      "cell_type": "code",
      "execution_count": 3,
      "metadata": {
        "id": "OCiLJPsuWkMf"
      },
      "outputs": [],
      "source": [
        "import gc\n",
        "import torch\n",
        "from transformers import AutoModelForCausalLM, AutoTokenizer, BitsAndBytesConfig"
      ]
    },
    {
      "cell_type": "markdown",
      "metadata": {
        "id": "R4-szyZUWz3-"
      },
      "source": [
        "## Load the model"
      ]
    },
    {
      "cell_type": "markdown",
      "metadata": {
        "id": "j4B_ck2bgLJW"
      },
      "source": [
        "The fine-tuned BioMistral model achieved a new highest f1-score of **64.5** of the curated evaluation dataset and is, for now, the best performing model we can provide."
      ]
    },
    {
      "cell_type": "code",
      "execution_count": null,
      "metadata": {
        "colab": {
          "base_uri": "https://localhost:8080/",
          "height": 191,
          "referenced_widgets": [
            "5ce940c109cb45639f3bba1e0156b817",
            "e2c7dff6384b48a1ad04763d943cccb5",
            "e7108c3edf8143a18d6a851b5c853d37",
            "bc895ff6e15e4dac82d021d6936c9c37",
            "16eeff407c0d4a7aaaf64baf67f427cd",
            "ff81b8b2f5a44d26ae6cc5fee114c0d2",
            "dfa81937dba54a3e9fb803f65d47053b",
            "0e71f465b9474ddb9275451ef4b634fe",
            "9d44638a2f484749ad9494cc6ae65a1f",
            "e4a11f74e88f4bcaa97564ecdfcbc3b3",
            "00ce1ee9166a4c4e861a834ea96b4df5"
          ]
        },
        "id": "0NvCW2jFW3D6",
        "outputId": "09fc9c6a-a12b-424c-f593-37185b5f78f1"
      },
      "outputs": [],
      "source": [
        "# model and quantization config\n",
        "BNB_CONFIG = BitsAndBytesConfig(load_in_8bit=True)\n",
        "model_hf = \"mdelmas/BioMistral-7B-Natural-Products-RE-Diversity-1000-synt-v1.2\"\n",
        "\n",
        "# Load model\n",
        "model = AutoModelForCausalLM.from_pretrained(model_hf, quantization_config=BNB_CONFIG)\n",
        "tokenizer = AutoTokenizer.from_pretrained(model_hf)"
      ]
    },
    {
      "cell_type": "markdown",
      "metadata": {
        "id": "-JM28_6pgEer"
      },
      "source": [
        "### Inference function"
      ]
    },
    {
      "cell_type": "code",
      "execution_count": 5,
      "metadata": {
        "id": "Jfs_ulWZgD01"
      },
      "outputs": [],
      "source": [
        "def inference(text):\n",
        "  device = torch.device(\"cuda\")\n",
        "\n",
        "  # Decoding arguments. You can change them.\n",
        "  EVAL_GENERATION_ARGS = {\"do_sample\": False,\n",
        "    \"num_beams\": 3,\n",
        "    \"length_penalty\": 3,\n",
        "    \"max_length\": 2048,\n",
        "    \"temperature\": 1,\n",
        "    \"forced_eos_token_id\": tokenizer.eos_token_id,\n",
        "    \"pad_token_id\": tokenizer.pad_token_id}\n",
        "\n",
        "  # Prepare the input\n",
        "  input_text = text + tokenizer.eos_token + tokenizer.bos_token\n",
        "\n",
        "  # Tokenize\n",
        "  input_tokens = tokenizer(input_text, return_tensors='pt')\n",
        "  input_tokens.to(device)\n",
        "\n",
        "  # Generate\n",
        "  with torch.no_grad():\n",
        "    beam_output = model.generate(**input_tokens, **EVAL_GENERATION_ARGS)\n",
        "  output = tokenizer.decode(beam_output[0][len(input_tokens[\"input_ids\"][0]):], skip_special_tokens=True)\n",
        "\n",
        "  # Parse and print\n",
        "  rels = output.strip().split(\"; \")\n",
        "  for rel in rels:\n",
        "    print(\"- \" + rel)\n",
        "  torch.cuda.empty_cache()\n",
        "  gc.collect()"
      ]
    },
    {
      "cell_type": "markdown",
      "metadata": {
        "id": "C-mkM3W7XPYR"
      },
      "source": [
        "## Inference"
      ]
    },
    {
      "cell_type": "markdown",
      "metadata": {
        "id": "olzBIndKXdOt"
      },
      "source": [
        "<style>body {text-align: justify}</style>\n",
        "\n",
        "#### Example 1 [PMID 24048364](https://pubmed.ncbi.nlm.nih.gov/24048364/)\n",
        "\n",
        "**Title: Producers and important dietary sources of ochratoxin A and citrinin**\n",
        "\n",
        "**Abstract:**\n",
        "<font color='green'>Ochratoxin A</font> (OTA) is a very important mycotoxin, and its research is focused right now on the new findings of OTA, like being a complete carcinogen, information about OTA producers and new exposure sources of OTA. <font color='green'>Citrinin</font> (CIT) is another important mycotoxin, too, and its research turns towards nephrotoxicity. Both additive and synergistic effects have been described in combination with OTA. OTA is produced in foodstuffs by Aspergillus Section Circumdati (<font color='blue'>Aspergillus ochraceus</font>, <font color='blue'>A. westerdijkiae</font>, <font color='blue'>A. steynii</font>) and Aspergillus Section Nigri (<font color='blue'>Aspergillus carbonarius</font>, <font color='blue'>A. foetidus</font>, <font color='blue'>A. lacticoffeatus</font>, <font color='blue'>A. niger</font>, <font color='blue'>A. sclerotioniger</font>, <font color='blue'>A. tubingensis</font>), mostly in subtropical and tropical areas. OTA is produced in foodstuffs by <font color='blue'>Penicillium verrucosum</font> and <font color='blue'>P. nordicum</font>, notably in temperate and colder zones. CIT is produced in foodstuffs by Monascus species (<font color='blue'>Monascus purpureus</font>, <font color='blue'>M. ruber</font>) and Penicillium species (<font color='blue'>Penicillium citrinum</font>, <font color='blue'>P. expansum</font>, <font color='blue'>P. radicicola</font>, <font color='blue'>P. verrucosum</font>). OTA was frequently found in foodstuffs of both plant origin (e.g., cereal products, coffee, vegetable, liquorice, raisins, wine) and animal origin (e.g., pork/poultry). CIT was also found in foodstuffs of vegetable origin (e.g., cereals, pomaceous fruits, black olive, roasted nuts, spices), food supplements based on rice fermented with red microfungi Monascus purpureus and in foodstuffs of animal origin (e.g., cheese)."
      ]
    },
    {
      "cell_type": "code",
      "execution_count": null,
      "metadata": {
        "colab": {
          "base_uri": "https://localhost:8080/"
        },
        "id": "KNYkhvbsXOdH",
        "outputId": "47da9d6a-b782-4a82-e974-ae4c2cca6017"
      },
      "outputs": [],
      "source": [
        "title_text = \"Producers and important dietary sources of ochratoxin A and citrinin.\"\n",
        "abstract_text = \"Ochratoxin A (OTA) is a very important mycotoxin, and its research is focused right now on the new findings of OTA, like being a complete carcinogen, information about OTA producers and new exposure sources of OTA. Citrinin (CIT) is another important mycotoxin, too, and its research turns towards nephrotoxicity. Both additive and synergistic effects have been described in combination with OTA. OTA is produced in foodstuffs by Aspergillus Section Circumdati (Aspergillus ochraceus, A. westerdijkiae, A. steynii) and Aspergillus Section Nigri (Aspergillus carbonarius, A. foetidus, A. lacticoffeatus, A. niger, A. sclerotioniger, A. tubingensis), mostly in subtropical and tropical areas. OTA is produced in foodstuffs by Penicillium verrucosum and P. nordicum, notably in temperate and colder zones. CIT is produced in foodstuffs by Monascus species (Monascus purpureus, M. ruber) and Penicillium species (Penicillium citrinum, P. expansum, P. radicicola, P. verrucosum). OTA was frequently found in foodstuffs of both plant origin (e.g., cereal products, coffee, vegetable, liquorice, raisins, wine) and animal origin (e.g., pork/poultry). CIT was also found in foodstuffs of vegetable origin (e.g., cereals, pomaceous fruits, black olive, roasted nuts, spices), food supplements based on rice fermented with red microfungi Monascus purpureus and in foodstuffs of animal origin (e.g., cheese).\"\n",
        "text = title_text + \" \" + abstract_text\n",
        "inference(text)"
      ]
    },
    {
      "cell_type": "markdown",
      "metadata": {
        "id": "f4r6xRNegds8"
      },
      "source": [
        "#### Example 2 [PMID  32902982](https://pubmed.ncbi.nlm.nih.gov/32902982/)\n",
        "\n",
        "**Title Penithoketone and Penithochromones A-L, Polyketides from the Deep-Sea-Derived Fungus Penicillium thomii YPGA3**\n",
        "\n",
        "**Abstract:**\n",
        "Twelve new polyketides, including a naphthoquinone derivative, <font color='green'>penithoketone</font> (1), and 11 chromone derivatives, <font color='green'>penithochromones A-L</font> (2-12), together with three known compounds (13-15) were isolated from the deep-sea-derived fungus <font color='blue'>Penicillium thomii YPGA3</font>. The structures of the metabolites were elucidated based on extensive analyses of the spectroscopic data, and the configuration of 1 was resolved by quantum chemical calculations of NMR shifts and ECD spectra and comparisons to experimental data. Compound 1, containing a naphthoquinone-derived moiety substituted with a butenolide unit, represents a new modified naphthoquinone skeleton. Interestingly, the 5,7-dioxygenated chromone derivatives 2-13 possessed different alkyl acid or alkyl ester side chain lengths, and those with side chain lengths of seven carbon atoms were discovered from nature for the first time. The metabolites were evaluated for their cytotoxicity against four cancer cell lines; compounds 1 and 15 were found to be active, with IC50 values ranging from 4.9 to 9.1 μM."
      ]
    },
    {
      "cell_type": "code",
      "execution_count": null,
      "metadata": {
        "colab": {
          "base_uri": "https://localhost:8080/"
        },
        "id": "oiC3Zwz7hYxl",
        "outputId": "bc1e2644-bebd-4572-ee11-9e940ce43c4b"
      },
      "outputs": [],
      "source": [
        "title_text = \"Penithoketone and Penithochromones A-L, Polyketides from the Deep-Sea-Derived Fungus Penicillium thomii YPGA3. \"\n",
        "abstract_text = \"Twelve new polyketides, including a naphthoquinone derivative, penithoketone (1), and 11 chromone derivatives, penithochromones A-L (2-12), together with three known compounds (13-15) were isolated from the deep-sea-derived fungus Penicillium thomii YPGA3. The structures of the metabolites were elucidated based on extensive analyses of the spectroscopic data, and the configuration of 1 was resolved by quantum chemical calculations of NMR shifts and ECD spectra and comparisons to experimental data. Compound 1, containing a naphthoquinone-derived moiety substituted with a butenolide unit, represents a new modified naphthoquinone skeleton. Interestingly, the 5,7-dioxygenated chromone derivatives 2-13 possessed different alkyl acid or alkyl ester side chain lengths, and those with side chain lengths of seven carbon atoms were discovered from nature for the first time. The metabolites were evaluated for their cytotoxicity against four cancer cell lines; compounds 1 and 15 were found to be active, with IC50 values ranging from 4.9 to 9.1 μM.\"\n",
        "text = title_text + \" \" + abstract_text\n",
        "inference(text)"
      ]
    },
    {
      "cell_type": "markdown",
      "metadata": {
        "id": "59FgWgbGhrUV"
      },
      "source": [
        "#### Example 3 [PMID 20853137](https://pubmed.ncbi.nlm.nih.gov/20853137/)\n",
        "\n",
        "**Title: Identification of new members within suites of amphiphilic marine siderophores**\n",
        "\n",
        "**Abstract:**\n",
        "Marine bacterial isolates <font color='blue'>Vibrio sp. HC0601C5</font> and <font color='blue'>Halomonas meridiana str. HC4321C1</font> were isolated off the coast of southern California and were found to produce an expanded suite of previously identified amphiphilic siderophores. Specifically two new members of the amphibactin family, <font color='green'>amphibactins S and T</font>, which have a C14:1 ω-7 fatty acid and a saturated C12 fatty acid, respectively, were produced by <font color='blue'>Vibrio sp. HC0601C5</font>. These siderophores are produced in addition to a number of previously described amphibactins and are excreted into the culture supernatant. Two new members of the aquachelin family of siderophores, <font color='green'>aquachelins I and J</font>, which have an hydroxylated C12 fatty acid and a saturated C10 fatty acid, respectively, were produced by <font color='blue'>Halomonas meridiana str. HC4321C1</font>. These four new siderophores are more hydrophilic than their previously reported relatives, aquachelins A-D and the amphibactin suite of siderophores."
      ]
    },
    {
      "cell_type": "code",
      "execution_count": null,
      "metadata": {
        "colab": {
          "base_uri": "https://localhost:8080/"
        },
        "id": "WKcKf1DriK4F",
        "outputId": "de4584ed-3c64-4a92-959f-329c590bd9e7"
      },
      "outputs": [],
      "source": [
        "title_text = \"Identification of new members within suites of amphiphilic marine siderophores.\"\n",
        "abstract_text = \"Marine bacterial isolates Vibrio sp. HC0601C5 and Halomonas meridiana str. HC4321C1 were isolated off the coast of southern California and were found to produce an expanded suite of previously identified amphiphilic siderophores. Specifically two new members of the amphibactin family, amphibactins S and T, which have a C14:1 ω-7 fatty acid and a saturated C12 fatty acid, respectively, were produced by Vibrio sp. HC0601C5. These siderophores are produced in addition to a number of previously described amphibactins and are excreted into the culture supernatant. Two new members of the aquachelin family of siderophores, aquachelins I and J, which have an hydroxylated C12 fatty acid and a saturated C10 fatty acid, respectively, were produced by Halomonas meridiana str. HC4321C1. These four new siderophores are more hydrophilic than their previously reported relatives, aquachelins A-D and the amphibactin suite of siderophores.\"\n",
        "text = title_text + \" \" + abstract_text\n",
        "inference(text)"
      ]
    },
    {
      "cell_type": "markdown",
      "metadata": {
        "id": "c7NT2AWdoJBV"
      },
      "source": [
        "See for instance alternative examples with PMID [20853137](https://pubmed.ncbi.nlm.nih.gov/20853137), [9586194](https://pubmed.ncbi.nlm.nih.gov/9586194), [17252498](https://pubmed.ncbi.nlm.nih.gov/17252498), [12193025](https://pubmed.ncbi.nlm.nih.gov/12193025), [35841670](https://pubmed.ncbi.nlm.nih.gov/35841670)"
      ]
    },
    {
      "cell_type": "markdown",
      "metadata": {
        "id": "3euC3KBwiZxc"
      },
      "source": [
        "#### Example 4 [PMID 12193025](https://pubmed.ncbi.nlm.nih.gov/12193025/)\n",
        "\n",
        "**Title: 5-hydroxytryptamine-derived alkaloids from two marine sponges of the genus Hyrtios**\n",
        "\n",
        "**Abstract:**\n",
        "Indonesian specimens of the marine sponges <font color='blue'>Hyrtios erectus</font> and <font color='blue'>H. reticulatus</font> were found to contain 5-hydroxytryptamine-derived alkaloids. Their structures were determined on the basis of their spectral properties. <font color='blue'>H. erectus</font> contained <font color='green'>hyrtiosulawesine</font> (4), a new beta-carboline alkaloid, together with the already known alkaloids <font color='green'>5-hydroxyindole-3-carbaldehyde</font> (1), <font color='green'>hyrtiosin B</font> (2), and <font color='green'>5-hydroxy-3-(2-hydroxyethyl)indole</font> (3). <font color='blue'>H. reticulatus</font> contained the novel derivative <font color='green'>1,6-dihydroxy-1,2,3,4-tetrahydro-beta-carboline</font> (11) together with <font color='green'>serotonin</font> (5), <font color='green'>6-hydroxy-1-methyl-1,2,3,4-tetrahydro-beta-carboline</font> (7), and <font color='green'>6-hydroxy-3,4-dihydro-1-oxo-beta-carboline</font> (9)."
      ]
    },
    {
      "cell_type": "code",
      "execution_count": null,
      "metadata": {
        "colab": {
          "base_uri": "https://localhost:8080/"
        },
        "id": "qCjOdZNqiTq8",
        "outputId": "d1a0b4f3-597a-4921-e327-8993c0130496"
      },
      "outputs": [],
      "source": [
        "title_text = \"5-hydroxytryptamine-derived alkaloids from two marine sponges of the genus Hyrtios\"\n",
        "abstract_text = \"Indonesian specimens of the marine sponges Hyrtios erectus and H. reticulatus were found to contain 5-hydroxytryptamine-derived alkaloids. Their structures were determined on the basis of their spectral properties. H. erectus contained hyrtiosulawesine (4), a new beta-carboline alkaloid, together with the already known alkaloids 5-hydroxyindole-3-carbaldehyde (1), hyrtiosin B (2), and 5-hydroxy-3-(2-hydroxyethyl)indole (3). H. reticulatus contained the novel derivative 1,6-dihydroxy-1,2,3,4-tetrahydro-beta-carboline (11) together with serotonin (5), 6-hydroxy-1-methyl-1,2,3,4-tetrahydro-beta-carboline (7), and 6-hydroxy-3,4-dihydro-1-oxo-beta-carboline (9).\"\n",
        "text = title_text + \" \" + abstract_text\n",
        "inference(text)"
      ]
    },
    {
      "cell_type": "markdown",
      "metadata": {
        "id": "lAM1jSPjiT6-"
      },
      "source": [
        "#### Example 5 [PMID 35841670](https://pubmed.ncbi.nlm.nih.gov/35841670/)\n",
        "\n",
        "**Title: [11]-chaetoglobosins with cytotoxic activities from Pseudeurotium bakeri**\n",
        "\n",
        "**Abstract:**\n",
        "Fourteen new <font color='green'>c[11]-chaetoglobosins</font> (1-14), along with two known congeners, <font color='green'>ccytochalasins X and Y</font> (15 and 16), were isolated from the cultures of an endophytic fungus <font color='blue'>Pseudeurotium bakeri</font> P1-1-1. Their structures incorporating absolute configurations were elucidated based on the comprehensive analyses of one- and two-dimensional NMR data, HRESIMS spectrometry, chemical methods, and single-crystal X-ray diffraction analysis (Cu Kα). All isolates were evaluated for their cytotoxic activities and <font color='green'>chaetopseudeurin M</font> (1) displayed significant cytotoxic effects against seven human cancer cell lines, with IC50 values ranging from 5.1 ± 0.9 to 10.8 ± 0.1 μM. Western blot experiments exhibited that compound 1 exerted its cytotoxic effect in MCF-7 cells by inducing G2/M cell cycle arrest and apoptosis via downregulating the expression of cyclin B1 and Cdk1, and activating Bcl-2/caspase-3/PARP pathway, respectively."
      ]
    },
    {
      "cell_type": "code",
      "execution_count": null,
      "metadata": {
        "colab": {
          "base_uri": "https://localhost:8080/"
        },
        "id": "quP7sVt0jIbn",
        "outputId": "9c211deb-c4d8-4897-9d45-8af2ef1ac68c"
      },
      "outputs": [],
      "source": [
        "title_text = \"[11]-chaetoglobosins with cytotoxic activities from Pseudeurotium bakeri.\"\n",
        "abstract_text = \"Fourteen new [11]-chaetoglobosins (1-14), along with two known congeners, cytochalasins X and Y (15 and 16), were isolated from the cultures of an endophytic fungus Pseudeurotium bakeri P1-1-1. Their structures incorporating absolute configurations were elucidated based on the comprehensive analyses of one- and two-dimensional NMR data, HRESIMS spectrometry, chemical methods, and single-crystal X-ray diffraction analysis (Cu Kα). All isolates were evaluated for their cytotoxic activities and chaetopseudeurin M (1) displayed significant cytotoxic effects against seven human cancer cell lines, with IC50 values ranging from 5.1 ± 0.9 to 10.8 ± 0.1 μM. Western blot experiments exhibited that compound 1 exerted its cytotoxic effect in MCF-7 cells by inducing G2/M cell cycle arrest and apoptosis via downregulating the expression of cyclin B1 and Cdk1, and activating Bcl-2/caspase-3/PARP pathway, respectively.\"\n",
        "text = title_text + \" \" + abstract_text\n",
        "inference(text)"
      ]
    },
    {
      "cell_type": "markdown",
      "metadata": {
        "id": "1Dxvn7e2kCiP"
      },
      "source": [
        "#### Test with your document of choice:"
      ]
    }
  ],
  "metadata": {
    "accelerator": "GPU",
    "colab": {
      "gpuType": "T4",
      "provenance": []
    },
    "kernelspec": {
      "display_name": "Python 3",
      "name": "python3"
    },
    "language_info": {
      "name": "python"
    },
    "widgets": {
      "application/vnd.jupyter.widget-state+json": {
        "00ce1ee9166a4c4e861a834ea96b4df5": {
          "model_module": "@jupyter-widgets/controls",
          "model_module_version": "1.5.0",
          "model_name": "DescriptionStyleModel",
          "state": {
            "_model_module": "@jupyter-widgets/controls",
            "_model_module_version": "1.5.0",
            "_model_name": "DescriptionStyleModel",
            "_view_count": null,
            "_view_module": "@jupyter-widgets/base",
            "_view_module_version": "1.2.0",
            "_view_name": "StyleView",
            "description_width": ""
          }
        },
        "0e71f465b9474ddb9275451ef4b634fe": {
          "model_module": "@jupyter-widgets/base",
          "model_module_version": "1.2.0",
          "model_name": "LayoutModel",
          "state": {
            "_model_module": "@jupyter-widgets/base",
            "_model_module_version": "1.2.0",
            "_model_name": "LayoutModel",
            "_view_count": null,
            "_view_module": "@jupyter-widgets/base",
            "_view_module_version": "1.2.0",
            "_view_name": "LayoutView",
            "align_content": null,
            "align_items": null,
            "align_self": null,
            "border": null,
            "bottom": null,
            "display": null,
            "flex": null,
            "flex_flow": null,
            "grid_area": null,
            "grid_auto_columns": null,
            "grid_auto_flow": null,
            "grid_auto_rows": null,
            "grid_column": null,
            "grid_gap": null,
            "grid_row": null,
            "grid_template_areas": null,
            "grid_template_columns": null,
            "grid_template_rows": null,
            "height": null,
            "justify_content": null,
            "justify_items": null,
            "left": null,
            "margin": null,
            "max_height": null,
            "max_width": null,
            "min_height": null,
            "min_width": null,
            "object_fit": null,
            "object_position": null,
            "order": null,
            "overflow": null,
            "overflow_x": null,
            "overflow_y": null,
            "padding": null,
            "right": null,
            "top": null,
            "visibility": null,
            "width": null
          }
        },
        "16eeff407c0d4a7aaaf64baf67f427cd": {
          "model_module": "@jupyter-widgets/base",
          "model_module_version": "1.2.0",
          "model_name": "LayoutModel",
          "state": {
            "_model_module": "@jupyter-widgets/base",
            "_model_module_version": "1.2.0",
            "_model_name": "LayoutModel",
            "_view_count": null,
            "_view_module": "@jupyter-widgets/base",
            "_view_module_version": "1.2.0",
            "_view_name": "LayoutView",
            "align_content": null,
            "align_items": null,
            "align_self": null,
            "border": null,
            "bottom": null,
            "display": null,
            "flex": null,
            "flex_flow": null,
            "grid_area": null,
            "grid_auto_columns": null,
            "grid_auto_flow": null,
            "grid_auto_rows": null,
            "grid_column": null,
            "grid_gap": null,
            "grid_row": null,
            "grid_template_areas": null,
            "grid_template_columns": null,
            "grid_template_rows": null,
            "height": null,
            "justify_content": null,
            "justify_items": null,
            "left": null,
            "margin": null,
            "max_height": null,
            "max_width": null,
            "min_height": null,
            "min_width": null,
            "object_fit": null,
            "object_position": null,
            "order": null,
            "overflow": null,
            "overflow_x": null,
            "overflow_y": null,
            "padding": null,
            "right": null,
            "top": null,
            "visibility": null,
            "width": null
          }
        },
        "5ce940c109cb45639f3bba1e0156b817": {
          "model_module": "@jupyter-widgets/controls",
          "model_module_version": "1.5.0",
          "model_name": "HBoxModel",
          "state": {
            "_dom_classes": [],
            "_model_module": "@jupyter-widgets/controls",
            "_model_module_version": "1.5.0",
            "_model_name": "HBoxModel",
            "_view_count": null,
            "_view_module": "@jupyter-widgets/controls",
            "_view_module_version": "1.5.0",
            "_view_name": "HBoxView",
            "box_style": "",
            "children": [
              "IPY_MODEL_e2c7dff6384b48a1ad04763d943cccb5",
              "IPY_MODEL_e7108c3edf8143a18d6a851b5c853d37",
              "IPY_MODEL_bc895ff6e15e4dac82d021d6936c9c37"
            ],
            "layout": "IPY_MODEL_16eeff407c0d4a7aaaf64baf67f427cd"
          }
        },
        "9d44638a2f484749ad9494cc6ae65a1f": {
          "model_module": "@jupyter-widgets/controls",
          "model_module_version": "1.5.0",
          "model_name": "ProgressStyleModel",
          "state": {
            "_model_module": "@jupyter-widgets/controls",
            "_model_module_version": "1.5.0",
            "_model_name": "ProgressStyleModel",
            "_view_count": null,
            "_view_module": "@jupyter-widgets/base",
            "_view_module_version": "1.2.0",
            "_view_name": "StyleView",
            "bar_color": null,
            "description_width": ""
          }
        },
        "bc895ff6e15e4dac82d021d6936c9c37": {
          "model_module": "@jupyter-widgets/controls",
          "model_module_version": "1.5.0",
          "model_name": "HTMLModel",
          "state": {
            "_dom_classes": [],
            "_model_module": "@jupyter-widgets/controls",
            "_model_module_version": "1.5.0",
            "_model_name": "HTMLModel",
            "_view_count": null,
            "_view_module": "@jupyter-widgets/controls",
            "_view_module_version": "1.5.0",
            "_view_name": "HTMLView",
            "description": "",
            "description_tooltip": null,
            "layout": "IPY_MODEL_e4a11f74e88f4bcaa97564ecdfcbc3b3",
            "placeholder": "​",
            "style": "IPY_MODEL_00ce1ee9166a4c4e861a834ea96b4df5",
            "value": " 3/3 [01:07&lt;00:00, 22.00s/it]"
          }
        },
        "dfa81937dba54a3e9fb803f65d47053b": {
          "model_module": "@jupyter-widgets/controls",
          "model_module_version": "1.5.0",
          "model_name": "DescriptionStyleModel",
          "state": {
            "_model_module": "@jupyter-widgets/controls",
            "_model_module_version": "1.5.0",
            "_model_name": "DescriptionStyleModel",
            "_view_count": null,
            "_view_module": "@jupyter-widgets/base",
            "_view_module_version": "1.2.0",
            "_view_name": "StyleView",
            "description_width": ""
          }
        },
        "e2c7dff6384b48a1ad04763d943cccb5": {
          "model_module": "@jupyter-widgets/controls",
          "model_module_version": "1.5.0",
          "model_name": "HTMLModel",
          "state": {
            "_dom_classes": [],
            "_model_module": "@jupyter-widgets/controls",
            "_model_module_version": "1.5.0",
            "_model_name": "HTMLModel",
            "_view_count": null,
            "_view_module": "@jupyter-widgets/controls",
            "_view_module_version": "1.5.0",
            "_view_name": "HTMLView",
            "description": "",
            "description_tooltip": null,
            "layout": "IPY_MODEL_ff81b8b2f5a44d26ae6cc5fee114c0d2",
            "placeholder": "​",
            "style": "IPY_MODEL_dfa81937dba54a3e9fb803f65d47053b",
            "value": "Loading checkpoint shards: 100%"
          }
        },
        "e4a11f74e88f4bcaa97564ecdfcbc3b3": {
          "model_module": "@jupyter-widgets/base",
          "model_module_version": "1.2.0",
          "model_name": "LayoutModel",
          "state": {
            "_model_module": "@jupyter-widgets/base",
            "_model_module_version": "1.2.0",
            "_model_name": "LayoutModel",
            "_view_count": null,
            "_view_module": "@jupyter-widgets/base",
            "_view_module_version": "1.2.0",
            "_view_name": "LayoutView",
            "align_content": null,
            "align_items": null,
            "align_self": null,
            "border": null,
            "bottom": null,
            "display": null,
            "flex": null,
            "flex_flow": null,
            "grid_area": null,
            "grid_auto_columns": null,
            "grid_auto_flow": null,
            "grid_auto_rows": null,
            "grid_column": null,
            "grid_gap": null,
            "grid_row": null,
            "grid_template_areas": null,
            "grid_template_columns": null,
            "grid_template_rows": null,
            "height": null,
            "justify_content": null,
            "justify_items": null,
            "left": null,
            "margin": null,
            "max_height": null,
            "max_width": null,
            "min_height": null,
            "min_width": null,
            "object_fit": null,
            "object_position": null,
            "order": null,
            "overflow": null,
            "overflow_x": null,
            "overflow_y": null,
            "padding": null,
            "right": null,
            "top": null,
            "visibility": null,
            "width": null
          }
        },
        "e7108c3edf8143a18d6a851b5c853d37": {
          "model_module": "@jupyter-widgets/controls",
          "model_module_version": "1.5.0",
          "model_name": "FloatProgressModel",
          "state": {
            "_dom_classes": [],
            "_model_module": "@jupyter-widgets/controls",
            "_model_module_version": "1.5.0",
            "_model_name": "FloatProgressModel",
            "_view_count": null,
            "_view_module": "@jupyter-widgets/controls",
            "_view_module_version": "1.5.0",
            "_view_name": "ProgressView",
            "bar_style": "success",
            "description": "",
            "description_tooltip": null,
            "layout": "IPY_MODEL_0e71f465b9474ddb9275451ef4b634fe",
            "max": 3,
            "min": 0,
            "orientation": "horizontal",
            "style": "IPY_MODEL_9d44638a2f484749ad9494cc6ae65a1f",
            "value": 3
          }
        },
        "ff81b8b2f5a44d26ae6cc5fee114c0d2": {
          "model_module": "@jupyter-widgets/base",
          "model_module_version": "1.2.0",
          "model_name": "LayoutModel",
          "state": {
            "_model_module": "@jupyter-widgets/base",
            "_model_module_version": "1.2.0",
            "_model_name": "LayoutModel",
            "_view_count": null,
            "_view_module": "@jupyter-widgets/base",
            "_view_module_version": "1.2.0",
            "_view_name": "LayoutView",
            "align_content": null,
            "align_items": null,
            "align_self": null,
            "border": null,
            "bottom": null,
            "display": null,
            "flex": null,
            "flex_flow": null,
            "grid_area": null,
            "grid_auto_columns": null,
            "grid_auto_flow": null,
            "grid_auto_rows": null,
            "grid_column": null,
            "grid_gap": null,
            "grid_row": null,
            "grid_template_areas": null,
            "grid_template_columns": null,
            "grid_template_rows": null,
            "height": null,
            "justify_content": null,
            "justify_items": null,
            "left": null,
            "margin": null,
            "max_height": null,
            "max_width": null,
            "min_height": null,
            "min_width": null,
            "object_fit": null,
            "object_position": null,
            "order": null,
            "overflow": null,
            "overflow_x": null,
            "overflow_y": null,
            "padding": null,
            "right": null,
            "top": null,
            "visibility": null,
            "width": null
          }
        }
      }
    }
  },
  "nbformat": 4,
  "nbformat_minor": 0
}
